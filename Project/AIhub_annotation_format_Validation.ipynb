{
 "cells": [
  {
   "cell_type": "code",
   "execution_count": 1,
   "id": "43c9b40e-5c3b-4dbf-a60a-326304bd6417",
   "metadata": {},
   "outputs": [],
   "source": [
    "# AIhub json annotation을 coco json format으로 변경\n",
    "# 수정 ver"
   ]
  },
  {
   "cell_type": "code",
   "execution_count": 19,
   "id": "8d6ed345-7b25-4fed-a648-8eacf553b2c7",
   "metadata": {},
   "outputs": [],
   "source": [
    "import json\n",
    "import os\n",
    "from tqdm import tqdm"
   ]
  },
  {
   "cell_type": "code",
   "execution_count": 32,
   "id": "0fba06c1-8e03-4c23-865a-f61e501d9a04",
   "metadata": {},
   "outputs": [
    {
     "name": "stderr",
     "output_type": "stream",
     "text": [
      "100%|███████████████████████████████████████████████████████████████████████████████| 713/713 [00:01<00:00, 567.60it/s]\n"
     ]
    }
   ],
   "source": [
    "import json\n",
    "import os\n",
    "\n",
    "# 입력 파일 디렉토리 경로\n",
    "input_directory = \"./173.공원 주요시설 및 불법행위 감시 CCTV 영상 데이터/01.데이터/2.Validation/라벨링데이터/VL_객체(불법객체, 정상객체)데이터/3.불법객체/17.반려동물\"\n",
    "output_file_path = \"output_validation4.json\"\n",
    "\n",
    "# COCO JSON 형식으로 변환할 주석 데이터 생성\n",
    "annotations = []\n",
    "categories = []\n",
    "images = []\n",
    "image_id = 1\n",
    "annotation_id = 1\n",
    "\n",
    "# 입력 디렉토리의 모든 파일에 대해 반복\n",
    "for file_name in tqdm(os.listdir(input_directory)):\n",
    "    if file_name.endswith(\".json\"):\n",
    "        file_path = os.path.join(input_directory, file_name)\n",
    "\n",
    "        # 입력 파일 읽기\n",
    "        with open(file_path, 'rt', encoding='UTF8') as f:\n",
    "            data = json.load(f)\n",
    "\n",
    "        # 카테고리 정보 추출\n",
    "        for d in data['category']:\n",
    "            if d['id']==17:\n",
    "                category=d\n",
    "\n",
    "        category_id = category[\"id\"] \n",
    "        category_name = category[\"object_class_name\"]\n",
    "        category_supercategory = category[\"supercategory\"]\n",
    "        category_description = category[\"class_description\"]\n",
    "\n",
    "        # COCO JSON 형식의 카테고리 데이터 생성\n",
    "        categories.append({\n",
    "            \"id\": category_id,\n",
    "            \"name\": category_name,\n",
    "            \"supercategory\": category_supercategory,\n",
    "            \"description\": category_description\n",
    "        })\n",
    "\n",
    "        # 이미지 정보 생성\n",
    "        image_info = {\n",
    "            \"id\": image_id,\n",
    "            \"file_name\": data[\"images\"][\"ori_file_name\"],\n",
    "            \"height\": data[\"images\"][\"height\"],\n",
    "            \"width\": data[\"images\"][\"width\"],\n",
    "            \"date_captured\": data[\"images\"][\"date_captured\"],\n",
    "            \"location\": data[\"images\"][\"location\"],\n",
    "            \"park_type\": data[\"images\"][\"park_type\"],\n",
    "            \"weather\": data[\"images\"][\"weather\"]\n",
    "        }\n",
    "        images.append(image_info)\n",
    "\n",
    "        # 주석 정보 추출\n",
    "        for annotation in data[\"annotations\"]:\n",
    "            if annotation['object_id']==17:\n",
    "                \n",
    "                object_id = annotation[\"object_id\"]\n",
    "                object_class = annotation[\"object_class\"]\n",
    "                bbox = annotation[\"bbox\"]\n",
    "                x_min, y_min = bbox[0]\n",
    "                x_max, y_max = bbox[1]\n",
    "                width = x_max - x_min\n",
    "                height = y_max - y_min\n",
    "\n",
    "                # COCO JSON 형식의 주석 데이터 생성\n",
    "                annotations.append({\n",
    "                    \"id\": annotation_id,\n",
    "                    \"image_id\": image_id,\n",
    "                    \"category_id\": category_id,\n",
    "                    \"bbox\": [x_min, y_min, width, height],\n",
    "                    \"area\": width * height,\n",
    "                    \"iscrowd\": 0\n",
    "                })\n",
    "\n",
    "                annotation_id += 1\n",
    "\n",
    "        image_id += 1\n",
    "\n",
    "# COCO JSON 형식의 데이터 생성\n",
    "coco_data = {\n",
    "    \"info\": {\n",
    "        \"year\": \"2021\",\n",
    "        \"date_created\": \"2021-12-17 01:33:18\"\n",
    "    },\n",
    "    \"images\": images,\n",
    "    \"annotations\": annotations,\n",
    "    \"categories\": categories\n",
    "}\n",
    "\n",
    "# 출력 파일 쓰기\n",
    "with open(output_file_path, \"w\") as f:\n",
    "    json.dump(coco_data, f, indent=4)"
   ]
  }
 ],
 "metadata": {
  "kernelspec": {
   "display_name": "Python 3 (ipykernel)",
   "language": "python",
   "name": "python3"
  },
  "language_info": {
   "codemirror_mode": {
    "name": "ipython",
    "version": 3
   },
   "file_extension": ".py",
   "mimetype": "text/x-python",
   "name": "python",
   "nbconvert_exporter": "python",
   "pygments_lexer": "ipython3",
   "version": "3.9.13"
  }
 },
 "nbformat": 4,
 "nbformat_minor": 5
}
