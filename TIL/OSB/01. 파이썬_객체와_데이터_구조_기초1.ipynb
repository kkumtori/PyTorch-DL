{
  "nbformat": 4,
  "nbformat_minor": 0,
  "metadata": {
    "colab": {
      "provenance": []
    },
    "kernelspec": {
      "name": "python3",
      "display_name": "Python 3"
    },
    "language_info": {
      "name": "python"
    }
  },
  "cells": [
    {
      "cell_type": "markdown",
      "source": [
        "#  파이썬 데이터 타입\n",
        "* Integer(정수형)\n",
        "  * int\n",
        "  * 정수 : 3, 300, 200\n",
        "* Floating poing(소수형)\n",
        "  * float\n",
        "  * 소수 : 2.3, 4.6, 100.0\n",
        "* Strings(문자형)\n",
        "  * str\n",
        "  * 연속된 문자열\n",
        "  * '10', \"hello\", '200.3'\n",
        "\n",
        "* Lists(리스트)\n",
        "  * list\n",
        "  * 순서를 가진 데이터를 담는 구조(대괄호 사용)\n",
        "  * [10, 'hello', 200.3] (어떤 자료형이든 담을 수 있음)\n",
        "\n",
        "* Dictionaries(사전)\n",
        "  * dict\n",
        "  * key와 value를 가지는 데이터 구조(중괄호 사용)\n",
        "  * {\"key1\" : \"value1\", \"name\" : \"beom\"\n",
        "\n",
        "* Tuples(튜플)\n",
        "  * tup\n",
        "  * 순서가 정해져있고 변동되지않는 객체를 가지는 데이터 구조(소괄호 사용)\n",
        "  * (10, \"hello\", 200.3)\n",
        "\n",
        "* Sets(집합)\n",
        "  * set\n",
        "  * 순서가 없는 객체의 모임(중괄호 사용)\n",
        "  * {\"a\", \"b\"}\n",
        "\n",
        "* Booleans(불형)\n",
        "  * bool\n",
        "  * 참과 거짓을 나타내는 논리값(True, False)\n",
        "\n",
        "* 파이썬은 기본적으로 Dynamic Typing(동적 타이핑).\n",
        "  * 변수를 int형으로 선언 후 다른 타입으로 변환해도 문제가 없음.\n",
        "  * 하지만, 다른 언어에서는 문제가 생김.(stactic type)정적 타이핑.\n",
        "  * 기본적으로 어떤 자료형인지 확인하기 위해서 `type()`을 사용."
      ],
      "metadata": {
        "id": "vqLamk_g4SQf"
      }
    },
    {
      "cell_type": "markdown",
      "source": [
        "## 숫자형\n",
        "* int(정수형)\n",
        "* float(소수형)"
      ],
      "metadata": {
        "id": "hwkBGA0J6VmX"
      }
    },
    {
      "cell_type": "code",
      "source": [
        "# 기본적인 사칙연산\n",
        "2+1, 2-1, 2*2, 2/2"
      ],
      "metadata": {
        "colab": {
          "base_uri": "https://localhost:8080/"
        },
        "id": "gomQCDyA6ZgS",
        "outputId": "80191fac-be37-49a2-c6e7-042630e76e53"
      },
      "execution_count": null,
      "outputs": [
        {
          "output_type": "execute_result",
          "data": {
            "text/plain": [
              "(3, 1, 4, 1.0)"
            ]
          },
          "metadata": {},
          "execution_count": 3
        }
      ]
    },
    {
      "cell_type": "code",
      "execution_count": null,
      "metadata": {
        "id": "axejLWxu4fYB",
        "colab": {
          "base_uri": "https://localhost:8080/"
        },
        "outputId": "38676521-52dc-4485-fac6-c24a13574bd9"
      },
      "outputs": [
        {
          "output_type": "execute_result",
          "data": {
            "text/plain": [
              "(3, 1)"
            ]
          },
          "metadata": {},
          "execution_count": 4
        }
      ],
      "source": [
        "# 나머지 연산 (나머지가 있는 없는지 알 수 있어서 매우 유용.)\n",
        "7 % 4, 7//4"
      ]
    },
    {
      "cell_type": "code",
      "source": [
        "# 거듭 연산\n",
        "2 ** 3, 10 **3"
      ],
      "metadata": {
        "colab": {
          "base_uri": "https://localhost:8080/"
        },
        "id": "O4CMqJ-K6p_3",
        "outputId": "351fad41-a271-4415-c23c-2ebe9dd7db31"
      },
      "execution_count": null,
      "outputs": [
        {
          "output_type": "execute_result",
          "data": {
            "text/plain": [
              "(8, 1000)"
            ]
          },
          "metadata": {},
          "execution_count": 7
        }
      ]
    },
    {
      "cell_type": "markdown",
      "source": [
        "## 변수 할당\n",
        "* 내장함수 이름으로 변수 할당."
      ],
      "metadata": {
        "id": "7zUoHvUo8og1"
      }
    },
    {
      "cell_type": "markdown",
      "source": [
        "* 정수형 할당"
      ],
      "metadata": {
        "id": "8ONThllX9Sjf"
      }
    },
    {
      "cell_type": "code",
      "source": [
        "a = 5\n",
        "a"
      ],
      "metadata": {
        "colab": {
          "base_uri": "https://localhost:8080/"
        },
        "id": "MNCZOvVb63Pq",
        "outputId": "1dd38f97-96da-4b6d-8d14-696ead99e875"
      },
      "execution_count": null,
      "outputs": [
        {
          "output_type": "execute_result",
          "data": {
            "text/plain": [
              "5"
            ]
          },
          "metadata": {},
          "execution_count": 8
        }
      ]
    },
    {
      "cell_type": "code",
      "source": [
        "# 다른 변수로 할당\n",
        "a = 10\n",
        "a"
      ],
      "metadata": {
        "colab": {
          "base_uri": "https://localhost:8080/"
        },
        "id": "3bFDapaQ8r4w",
        "outputId": "eb952f30-2378-412e-a015-81018cca0f57"
      },
      "execution_count": null,
      "outputs": [
        {
          "output_type": "execute_result",
          "data": {
            "text/plain": [
              "10"
            ]
          },
          "metadata": {},
          "execution_count": 9
        }
      ]
    },
    {
      "cell_type": "code",
      "source": [
        "# 같은 객체를 할당해서 사용이 가능.\n",
        "a  = a + a\n",
        "a"
      ],
      "metadata": {
        "colab": {
          "base_uri": "https://localhost:8080/"
        },
        "id": "YEFIp91u8z-Y",
        "outputId": "abbda66a-3bc5-4e1f-8d45-b9924375ec76"
      },
      "execution_count": null,
      "outputs": [
        {
          "output_type": "execute_result",
          "data": {
            "text/plain": [
              "40"
            ]
          },
          "metadata": {},
          "execution_count": 11
        }
      ]
    },
    {
      "cell_type": "code",
      "source": [
        "# 자료형 확인\n",
        "type(a)"
      ],
      "metadata": {
        "colab": {
          "base_uri": "https://localhost:8080/"
        },
        "id": "WKEw3t259F91",
        "outputId": "c846856b-9fcf-4b21-877f-2bb691741935"
      },
      "execution_count": null,
      "outputs": [
        {
          "output_type": "execute_result",
          "data": {
            "text/plain": [
              "int"
            ]
          },
          "metadata": {},
          "execution_count": 12
        }
      ]
    },
    {
      "cell_type": "markdown",
      "source": [
        "* 소수형 할당"
      ],
      "metadata": {
        "id": "o-LQRPmX9T8D"
      }
    },
    {
      "cell_type": "code",
      "source": [
        "a = 30.1"
      ],
      "metadata": {
        "id": "4In5nCu_9Px8"
      },
      "execution_count": null,
      "outputs": []
    },
    {
      "cell_type": "code",
      "source": [
        "type(a)"
      ],
      "metadata": {
        "colab": {
          "base_uri": "https://localhost:8080/"
        },
        "id": "FwakMWYT9Y16",
        "outputId": "a1411ac6-b834-4ffa-f430-980ecbf10c9a"
      },
      "execution_count": null,
      "outputs": [
        {
          "output_type": "execute_result",
          "data": {
            "text/plain": [
              "float"
            ]
          },
          "metadata": {},
          "execution_count": 14
        }
      ]
    },
    {
      "cell_type": "markdown",
      "source": [
        "## 문자형\n",
        "* string\n",
        "* `\"\", ''` 둘다 가능.\n",
        "  * 문자열 안에서 `''`를 사용하고 싶으면, `\"\"`로 묶음 \n",
        "* Indexing, slicing 둘 다 가능.\n",
        "* slicing\n",
        "  * [start:stop:step]"
      ],
      "metadata": {
        "id": "lejMisotKQzB"
      }
    },
    {
      "cell_type": "code",
      "source": [
        "'hello'"
      ],
      "metadata": {
        "id": "zjGL7PQ29ZUt",
        "colab": {
          "base_uri": "https://localhost:8080/",
          "height": 35
        },
        "outputId": "96a3da37-c52b-40de-f418-a4151dde9dff"
      },
      "execution_count": 1,
      "outputs": [
        {
          "output_type": "execute_result",
          "data": {
            "text/plain": [
              "'hello'"
            ],
            "application/vnd.google.colaboratory.intrinsic+json": {
              "type": "string"
            }
          },
          "metadata": {},
          "execution_count": 1
        }
      ]
    },
    {
      "cell_type": "code",
      "source": [
        "\"world\""
      ],
      "metadata": {
        "colab": {
          "base_uri": "https://localhost:8080/",
          "height": 35
        },
        "id": "ReaGKH8xm-1k",
        "outputId": "4dde0d56-a012-4c5f-eb19-cf398840c608"
      },
      "execution_count": 2,
      "outputs": [
        {
          "output_type": "execute_result",
          "data": {
            "text/plain": [
              "'world'"
            ],
            "application/vnd.google.colaboratory.intrinsic+json": {
              "type": "string"
            }
          },
          "metadata": {},
          "execution_count": 2
        }
      ]
    },
    {
      "cell_type": "code",
      "source": [
        "\"i'm going on a run\""
      ],
      "metadata": {
        "colab": {
          "base_uri": "https://localhost:8080/",
          "height": 35
        },
        "id": "ZnRj_fpcm_h8",
        "outputId": "8b1fcdfd-b09b-4cc0-d330-b4b756c46364"
      },
      "execution_count": 3,
      "outputs": [
        {
          "output_type": "execute_result",
          "data": {
            "text/plain": [
              "\"i'm going on a run\""
            ],
            "application/vnd.google.colaboratory.intrinsic+json": {
              "type": "string"
            }
          },
          "metadata": {},
          "execution_count": 3
        }
      ]
    },
    {
      "cell_type": "code",
      "source": [
        "print('hello') # 문자열만 출력"
      ],
      "metadata": {
        "colab": {
          "base_uri": "https://localhost:8080/"
        },
        "id": "RTQoj5H9nCbl",
        "outputId": "4cbe51e0-f751-4761-8345-3b66cc7da98a"
      },
      "execution_count": 5,
      "outputs": [
        {
          "output_type": "stream",
          "name": "stdout",
          "text": [
            "hello\n"
          ]
        }
      ]
    },
    {
      "cell_type": "code",
      "source": [
        "# 줄바꿈 이용 escape sequence를 통한\n",
        "print('hello \\nworld')\n",
        "print('hello \\tworld') # tab"
      ],
      "metadata": {
        "colab": {
          "base_uri": "https://localhost:8080/"
        },
        "id": "TBFdhyBnnUbW",
        "outputId": "4d2ca315-2bc2-4b0c-b7fc-d1437926db01"
      },
      "execution_count": 8,
      "outputs": [
        {
          "output_type": "stream",
          "name": "stdout",
          "text": [
            "hello \n",
            "world\n",
            "hello \tworld\n"
          ]
        }
      ]
    },
    {
      "cell_type": "code",
      "source": [
        "# 길이 측정\n",
        "len('hello')"
      ],
      "metadata": {
        "colab": {
          "base_uri": "https://localhost:8080/"
        },
        "id": "60i4vsGsnibL",
        "outputId": "8a5600e3-2710-42b9-fd15-9914b81423a9"
      },
      "execution_count": 9,
      "outputs": [
        {
          "output_type": "execute_result",
          "data": {
            "text/plain": [
              "5"
            ]
          },
          "metadata": {},
          "execution_count": 9
        }
      ]
    },
    {
      "cell_type": "code",
      "source": [
        "len('i am') # 공백도 나의 길이로 측정"
      ],
      "metadata": {
        "colab": {
          "base_uri": "https://localhost:8080/"
        },
        "id": "VUOxCDZDnpXE",
        "outputId": "9e0ce558-3410-49de-b09e-2c6211b7bea4"
      },
      "execution_count": 11,
      "outputs": [
        {
          "output_type": "execute_result",
          "data": {
            "text/plain": [
              "4"
            ]
          },
          "metadata": {},
          "execution_count": 11
        }
      ]
    },
    {
      "cell_type": "markdown",
      "source": [
        "## 문자형 슬라이싱 인덱싱\n",
        "* `[]`를이용"
      ],
      "metadata": {
        "id": "uvzf0hocn5A7"
      }
    },
    {
      "cell_type": "code",
      "source": [
        "mystring = 'hello world'\n",
        "mystring"
      ],
      "metadata": {
        "colab": {
          "base_uri": "https://localhost:8080/",
          "height": 35
        },
        "id": "mcPIUPDvnrxS",
        "outputId": "078fe790-b71f-4cc6-9aff-4c77b6642727"
      },
      "execution_count": 12,
      "outputs": [
        {
          "output_type": "execute_result",
          "data": {
            "text/plain": [
              "'hello world'"
            ],
            "application/vnd.google.colaboratory.intrinsic+json": {
              "type": "string"
            }
          },
          "metadata": {},
          "execution_count": 12
        }
      ]
    },
    {
      "cell_type": "code",
      "source": [
        "# 인덱싱\n",
        "mystring[0] # 0에서 시작"
      ],
      "metadata": {
        "colab": {
          "base_uri": "https://localhost:8080/",
          "height": 35
        },
        "id": "SGwPa2-aoEnW",
        "outputId": "e96974d9-b9a8-4d75-ecfb-98324968dcd3"
      },
      "execution_count": 13,
      "outputs": [
        {
          "output_type": "execute_result",
          "data": {
            "text/plain": [
              "'h'"
            ],
            "application/vnd.google.colaboratory.intrinsic+json": {
              "type": "string"
            }
          },
          "metadata": {},
          "execution_count": 13
        }
      ]
    },
    {
      "cell_type": "code",
      "source": [
        "len(mystring) # 길이 측정"
      ],
      "metadata": {
        "colab": {
          "base_uri": "https://localhost:8080/"
        },
        "id": "tcIEqryBoHOt",
        "outputId": "faf56974-52f5-4d4b-83ac-b7d10b16a388"
      },
      "execution_count": 14,
      "outputs": [
        {
          "output_type": "execute_result",
          "data": {
            "text/plain": [
              "11"
            ]
          },
          "metadata": {},
          "execution_count": 14
        }
      ]
    },
    {
      "cell_type": "code",
      "source": [
        "# 가장 마지막을 의미\n",
        "print(mystring[-1]) # 전체의 길이를 알 수없을 떄 유용.\n",
        "print(mystring[10])"
      ],
      "metadata": {
        "colab": {
          "base_uri": "https://localhost:8080/"
        },
        "id": "OKGouNFUoKfx",
        "outputId": "854459fe-417d-4432-8992-143b2c75039f"
      },
      "execution_count": 16,
      "outputs": [
        {
          "output_type": "stream",
          "name": "stdout",
          "text": [
            "d\n",
            "d\n"
          ]
        }
      ]
    },
    {
      "cell_type": "code",
      "source": [
        "mystring[-2] # 뒤에서 첫번쨰"
      ],
      "metadata": {
        "colab": {
          "base_uri": "https://localhost:8080/",
          "height": 35
        },
        "id": "acuigjNnoN7o",
        "outputId": "90edb025-6c39-4552-96aa-9ad75b88bbfb"
      },
      "execution_count": 17,
      "outputs": [
        {
          "output_type": "execute_result",
          "data": {
            "text/plain": [
              "'l'"
            ],
            "application/vnd.google.colaboratory.intrinsic+json": {
              "type": "string"
            }
          },
          "metadata": {},
          "execution_count": 17
        }
      ]
    },
    {
      "cell_type": "code",
      "source": [
        "# 인덱싱\n",
        "mystring[0:2] # 0부터 1까지 출력"
      ],
      "metadata": {
        "colab": {
          "base_uri": "https://localhost:8080/",
          "height": 35
        },
        "id": "uGEVroWtoY1o",
        "outputId": "57d965ca-cef6-4c7c-e50f-e4fb9cf1a240"
      },
      "execution_count": 19,
      "outputs": [
        {
          "output_type": "execute_result",
          "data": {
            "text/plain": [
              "'he'"
            ],
            "application/vnd.google.colaboratory.intrinsic+json": {
              "type": "string"
            }
          },
          "metadata": {},
          "execution_count": 19
        }
      ]
    },
    {
      "cell_type": "code",
      "source": [
        "mystring[2:] # 2부터 끝까지"
      ],
      "metadata": {
        "colab": {
          "base_uri": "https://localhost:8080/",
          "height": 35
        },
        "id": "bmnJ4Jdxonh-",
        "outputId": "803411ff-5923-463b-f874-e0cb57f6fd81"
      },
      "execution_count": 20,
      "outputs": [
        {
          "output_type": "execute_result",
          "data": {
            "text/plain": [
              "'llo world'"
            ],
            "application/vnd.google.colaboratory.intrinsic+json": {
              "type": "string"
            }
          },
          "metadata": {},
          "execution_count": 20
        }
      ]
    },
    {
      "cell_type": "code",
      "source": [
        "mystring[:] # 전체 출력"
      ],
      "metadata": {
        "colab": {
          "base_uri": "https://localhost:8080/",
          "height": 35
        },
        "id": "0RETahujoten",
        "outputId": "76c0a886-16e8-4089-b592-4cccd7814b71"
      },
      "execution_count": 21,
      "outputs": [
        {
          "output_type": "execute_result",
          "data": {
            "text/plain": [
              "'hello world'"
            ],
            "application/vnd.google.colaboratory.intrinsic+json": {
              "type": "string"
            }
          },
          "metadata": {},
          "execution_count": 21
        }
      ]
    },
    {
      "cell_type": "code",
      "source": [
        "mystring[1:5:1], mystring[1:5] # 같은 출력"
      ],
      "metadata": {
        "colab": {
          "base_uri": "https://localhost:8080/"
        },
        "id": "Cjqy58cWozva",
        "outputId": "a2fb7f66-1f81-4fcb-b074-d2afc4cbc75f"
      },
      "execution_count": 23,
      "outputs": [
        {
          "output_type": "execute_result",
          "data": {
            "text/plain": [
              "('ello', 'ello')"
            ]
          },
          "metadata": {},
          "execution_count": 23
        }
      ]
    },
    {
      "cell_type": "code",
      "source": [
        "mystring[1:10:2] # 간격을 3으로 져오기"
      ],
      "metadata": {
        "colab": {
          "base_uri": "https://localhost:8080/",
          "height": 35
        },
        "id": "GY3JjMh2o5wQ",
        "outputId": "4c7ffc31-6ac5-44ba-8748-532de18f62cd"
      },
      "execution_count": 26,
      "outputs": [
        {
          "output_type": "execute_result",
          "data": {
            "text/plain": [
              "'el ol'"
            ],
            "application/vnd.google.colaboratory.intrinsic+json": {
              "type": "string"
            }
          },
          "metadata": {},
          "execution_count": 26
        }
      ]
    },
    {
      "cell_type": "code",
      "source": [
        "mystring[::2] # 전체를 2의 간격으로"
      ],
      "metadata": {
        "colab": {
          "base_uri": "https://localhost:8080/",
          "height": 35
        },
        "id": "BHd9fvKDo_yh",
        "outputId": "19083485-cb2d-433b-e723-a0047f05d204"
      },
      "execution_count": 29,
      "outputs": [
        {
          "output_type": "execute_result",
          "data": {
            "text/plain": [
              "'hlowrd'"
            ],
            "application/vnd.google.colaboratory.intrinsic+json": {
              "type": "string"
            }
          },
          "metadata": {},
          "execution_count": 29
        }
      ]
    },
    {
      "cell_type": "code",
      "source": [
        "mystring[::-1] # 순서를 뒤집기"
      ],
      "metadata": {
        "colab": {
          "base_uri": "https://localhost:8080/",
          "height": 35
        },
        "id": "JYE4hSNJpKl8",
        "outputId": "33b0bc9d-3b60-48ce-c34e-2e6c957d80c4"
      },
      "execution_count": 32,
      "outputs": [
        {
          "output_type": "execute_result",
          "data": {
            "text/plain": [
              "'dlrow olleh'"
            ],
            "application/vnd.google.colaboratory.intrinsic+json": {
              "type": "string"
            }
          },
          "metadata": {},
          "execution_count": 32
        }
      ]
    },
    {
      "cell_type": "markdown",
      "source": [
        "## 문자형의 특징 및 매소드\n",
        "* 불변성\n",
        "  * 변하지 않음."
      ],
      "metadata": {
        "id": "LRiBIBOJqIHB"
      }
    },
    {
      "cell_type": "code",
      "source": [
        "name = 'beom'"
      ],
      "metadata": {
        "id": "8HyIskKwp1pY"
      },
      "execution_count": 35,
      "outputs": []
    },
    {
      "cell_type": "code",
      "source": [
        "name[0] = 'p' # 문자열의 불변성이므로 재할당이 안됨."
      ],
      "metadata": {
        "colab": {
          "base_uri": "https://localhost:8080/",
          "height": 172
        },
        "id": "DU39Qb3uqRNV",
        "outputId": "fac97a09-f4c3-4f9b-d5dd-eb2c613d99ca"
      },
      "execution_count": 36,
      "outputs": [
        {
          "output_type": "error",
          "ename": "TypeError",
          "evalue": "ignored",
          "traceback": [
            "\u001b[0;31m---------------------------------------------------------------------------\u001b[0m",
            "\u001b[0;31mTypeError\u001b[0m                                 Traceback (most recent call last)",
            "\u001b[0;32m<ipython-input-36-3856869c5d2d>\u001b[0m in \u001b[0;36m<cell line: 1>\u001b[0;34m()\u001b[0m\n\u001b[0;32m----> 1\u001b[0;31m \u001b[0mname\u001b[0m\u001b[0;34m[\u001b[0m\u001b[0;36m0\u001b[0m\u001b[0;34m]\u001b[0m \u001b[0;34m=\u001b[0m \u001b[0;34m'p'\u001b[0m\u001b[0;34m\u001b[0m\u001b[0;34m\u001b[0m\u001b[0m\n\u001b[0m",
            "\u001b[0;31mTypeError\u001b[0m: 'str' object does not support item assignment"
          ]
        }
      ]
    },
    {
      "cell_type": "code",
      "source": [
        "# 수정하기 방법\n",
        "last_letters = name[1:]\n",
        "last_letters"
      ],
      "metadata": {
        "colab": {
          "base_uri": "https://localhost:8080/",
          "height": 35
        },
        "id": "eTixx-lgqSdA",
        "outputId": "8f79cb3f-47ca-48b0-e3ac-ffe937514c29"
      },
      "execution_count": 38,
      "outputs": [
        {
          "output_type": "execute_result",
          "data": {
            "text/plain": [
              "'eom'"
            ],
            "application/vnd.google.colaboratory.intrinsic+json": {
              "type": "string"
            }
          },
          "metadata": {},
          "execution_count": 38
        }
      ]
    },
    {
      "cell_type": "code",
      "source": [
        "'p'+ last_letters # 더하기 연산"
      ],
      "metadata": {
        "colab": {
          "base_uri": "https://localhost:8080/",
          "height": 35
        },
        "id": "6heg9flyqhNk",
        "outputId": "9304f61d-a8c6-4fa3-a74c-63cbff5dcd62"
      },
      "execution_count": 39,
      "outputs": [
        {
          "output_type": "execute_result",
          "data": {
            "text/plain": [
              "'peom'"
            ],
            "application/vnd.google.colaboratory.intrinsic+json": {
              "type": "string"
            }
          },
          "metadata": {},
          "execution_count": 39
        }
      ]
    },
    {
      "cell_type": "code",
      "source": [
        "\"2\"+'3' # 더하기 이므로 이어붙여주는것을 깅거!"
      ],
      "metadata": {
        "colab": {
          "base_uri": "https://localhost:8080/",
          "height": 35
        },
        "id": "mvPF6-a_rNSn",
        "outputId": "91770c89-c6f2-45db-c8e8-ce419cdff047"
      },
      "execution_count": 42,
      "outputs": [
        {
          "output_type": "execute_result",
          "data": {
            "text/plain": [
              "'23'"
            ],
            "application/vnd.google.colaboratory.intrinsic+json": {
              "type": "string"
            }
          },
          "metadata": {},
          "execution_count": 42
        }
      ]
    },
    {
      "cell_type": "code",
      "source": [
        "# 곱하기 연산 가능\n",
        "'z' * 10"
      ],
      "metadata": {
        "colab": {
          "base_uri": "https://localhost:8080/",
          "height": 35
        },
        "id": "vojIgSQlqnDM",
        "outputId": "937c6919-d431-4a99-bb40-bfabdde1e69a"
      },
      "execution_count": 43,
      "outputs": [
        {
          "output_type": "execute_result",
          "data": {
            "text/plain": [
              "'zzzzzzzzzz'"
            ],
            "application/vnd.google.colaboratory.intrinsic+json": {
              "type": "string"
            }
          },
          "metadata": {},
          "execution_count": 43
        }
      ]
    },
    {
      "cell_type": "code",
      "source": [
        "x = 'Hello world'"
      ],
      "metadata": {
        "id": "LvmBLxYirHqJ"
      },
      "execution_count": 44,
      "outputs": []
    },
    {
      "cell_type": "markdown",
      "source": [
        "* x.tab을 이용해서 다양한 속성을 변경할 수 있다는 것을 볼 수 있음."
      ],
      "metadata": {
        "id": "ZhVFQiyVrfVo"
      }
    },
    {
      "cell_type": "code",
      "source": [
        "x.upper() # 전부 대문자화 소문자는 lower"
      ],
      "metadata": {
        "colab": {
          "base_uri": "https://localhost:8080/",
          "height": 35
        },
        "id": "6OX2r2dmrbmH",
        "outputId": "cf3eedfc-a0c3-49d2-aed8-c6e714ac7139"
      },
      "execution_count": 45,
      "outputs": [
        {
          "output_type": "execute_result",
          "data": {
            "text/plain": [
              "'HELLO WORLD'"
            ],
            "application/vnd.google.colaboratory.intrinsic+json": {
              "type": "string"
            }
          },
          "metadata": {},
          "execution_count": 45
        }
      ]
    },
    {
      "cell_type": "code",
      "source": [
        "x # 실제로 영향을 주지 않음"
      ],
      "metadata": {
        "colab": {
          "base_uri": "https://localhost:8080/",
          "height": 35
        },
        "id": "5cZn4cp9rk_i",
        "outputId": "a646214d-3f48-4b3d-f292-d0c88b3980e9"
      },
      "execution_count": 46,
      "outputs": [
        {
          "output_type": "execute_result",
          "data": {
            "text/plain": [
              "'Hello world'"
            ],
            "application/vnd.google.colaboratory.intrinsic+json": {
              "type": "string"
            }
          },
          "metadata": {},
          "execution_count": 46
        }
      ]
    },
    {
      "cell_type": "markdown",
      "source": [
        "* 괄호 없이 실행할경우\n",
        "* 파이썬은 이 매서드나 함수를 실행하지 않고 이게 무엇인지 물어본줄 알고 이거에 대한 답변을 해준다."
      ],
      "metadata": {
        "id": "VtWuVyafru_w"
      }
    },
    {
      "cell_type": "code",
      "source": [
        "x.split() # 리스트로 만들어준다.현재는 공백에 의해서 구분"
      ],
      "metadata": {
        "colab": {
          "base_uri": "https://localhost:8080/"
        },
        "id": "1mcb7W8brqKE",
        "outputId": "26756dca-7b04-4257-ba80-4282a6ec5dbc"
      },
      "execution_count": 48,
      "outputs": [
        {
          "output_type": "execute_result",
          "data": {
            "text/plain": [
              "['Hello', 'world']"
            ]
          },
          "metadata": {},
          "execution_count": 48
        }
      ]
    },
    {
      "cell_type": "code",
      "source": [
        "x.split('o') # o를기준으로 분리 리스트 요소에는 o가 존재하지 않음."
      ],
      "metadata": {
        "colab": {
          "base_uri": "https://localhost:8080/"
        },
        "id": "Uaa_FuFIr-2T",
        "outputId": "2404a4ea-1cb2-46e0-ffb7-f2fb47e2e422"
      },
      "execution_count": 50,
      "outputs": [
        {
          "output_type": "execute_result",
          "data": {
            "text/plain": [
              "['Hell', ' w', 'rld']"
            ]
          },
          "metadata": {},
          "execution_count": 50
        }
      ]
    },
    {
      "cell_type": "markdown",
      "source": [
        "## 문자열 포멧팅\n",
        "* .format() 방법\n",
        "* f-string 방법\n",
        "  * python3에서 나옴"
      ],
      "metadata": {
        "id": "XY6NzpGlsprV"
      }
    },
    {
      "cell_type": "markdown",
      "source": [
        "### .format()"
      ],
      "metadata": {
        "id": "WSTGmArZuW5x"
      }
    },
    {
      "cell_type": "code",
      "source": [
        "print('This is a string {}'.format('inserted'))"
      ],
      "metadata": {
        "colab": {
          "base_uri": "https://localhost:8080/"
        },
        "id": "Zn_KDiQdsINa",
        "outputId": "116f8a9d-8f0d-4643-e879-b9c983feec45"
      },
      "execution_count": 51,
      "outputs": [
        {
          "output_type": "stream",
          "name": "stdout",
          "text": [
            "This is a string inserted\n"
          ]
        }
      ]
    },
    {
      "cell_type": "code",
      "source": [
        "print('the {} {} {}'.format('fox', 'brown', 'quick'))"
      ],
      "metadata": {
        "colab": {
          "base_uri": "https://localhost:8080/"
        },
        "id": "NCiJgsc_sz_T",
        "outputId": "7f73a038-0f66-4f8d-8802-e8a230a2c88c"
      },
      "execution_count": 54,
      "outputs": [
        {
          "output_type": "stream",
          "name": "stdout",
          "text": [
            "the fox brown quick\n"
          ]
        }
      ]
    },
    {
      "cell_type": "code",
      "source": [
        "a = 'fox'\n",
        "print('the {} {} {}'.format(a, 'brown', 'quick'))\n",
        "print('the {a} {a} {a}'.format(a='fox', b='brown', q='quick')) # keyward사용"
      ],
      "metadata": {
        "colab": {
          "base_uri": "https://localhost:8080/"
        },
        "id": "EKJeLZAPs-6l",
        "outputId": "8594e52b-c342-4e95-854d-1d4d7bdf0fc3"
      },
      "execution_count": 59,
      "outputs": [
        {
          "output_type": "stream",
          "name": "stdout",
          "text": [
            "the fox brown quick\n",
            "the fox fox fox\n"
          ]
        }
      ]
    },
    {
      "cell_type": "code",
      "source": [
        "# Padding\n",
        "print('{0:8} | {1:9}'.format('Fruit', 'Quantity'))\n",
        "print('{0:8} | {1:9}'.format('Apples', 3.))\n",
        "print('{0:8} | {1:9}'.format('Oranges', 10))"
      ],
      "metadata": {
        "colab": {
          "base_uri": "https://localhost:8080/"
        },
        "id": "7HgI4ygMwAJd",
        "outputId": "05077711-1a87-456b-afe7-b99c45a90811"
      },
      "execution_count": 68,
      "outputs": [
        {
          "output_type": "stream",
          "name": "stdout",
          "text": [
            "Fruit    | Quantity \n",
            "Apples   |       3.0\n",
            "Oranges  |        10\n"
          ]
        }
      ]
    },
    {
      "cell_type": "code",
      "source": [
        "# 왼쪽 정렬, 가운데 정렬, 오른쪽 정렬 방법 기본적으로 text는 왼쪽, 숫자는 오른쪽 정렬\n",
        "print('{0:<8} | {1:^8} | {2:>8}'.format('Left','Center','Right'))\n",
        "print('{0:<8} | {1:^8} | {2:>8}'.format(11,22,33))"
      ],
      "metadata": {
        "colab": {
          "base_uri": "https://localhost:8080/"
        },
        "id": "ZNHsbiMQwF33",
        "outputId": "2d0c34bc-d683-4d42-fa5a-4ee8cc2061e5"
      },
      "execution_count": 69,
      "outputs": [
        {
          "output_type": "stream",
          "name": "stdout",
          "text": [
            "Left     |  Center  |    Right\n",
            "11       |    22    |       33\n"
          ]
        }
      ]
    },
    {
      "cell_type": "code",
      "source": [
        "# 자동으로 패딩을 무엇으로 할지도 가능.\n",
        "print('{0:=<8} | {1:-^8} | {2:.>8}'.format('Left','Center','Right'))\n",
        "print('{0:=<8} | {1:-^8} | {2:.>8}'.format(11,22,33))"
      ],
      "metadata": {
        "colab": {
          "base_uri": "https://localhost:8080/"
        },
        "id": "1WH9XwfqwSTi",
        "outputId": "69173e34-528c-4f70-e8f2-9fbcf73384bc"
      },
      "execution_count": 71,
      "outputs": [
        {
          "output_type": "stream",
          "name": "stdout",
          "text": [
            "Left==== | -Center- | ...Right\n",
            "11====== | ---22--- | ......33\n"
          ]
        }
      ]
    },
    {
      "cell_type": "markdown",
      "source": [
        "### 실수형 formating\n",
        "* {value:width.precision f} 형태\n",
        "  * width는 출력의 길이\n",
        "  * precision는 보고 싶은 소수점 아래 몇 자리인지\n",
        "  "
      ],
      "metadata": {
        "id": "L6rZf1HftjbD"
      }
    },
    {
      "cell_type": "code",
      "source": [
        "result = 100/777\n",
        "result"
      ],
      "metadata": {
        "colab": {
          "base_uri": "https://localhost:8080/"
        },
        "id": "RF8hdeKetNbN",
        "outputId": "0ac6977c-833f-4d35-d7d1-0f0f803c5643"
      },
      "execution_count": 60,
      "outputs": [
        {
          "output_type": "execute_result",
          "data": {
            "text/plain": [
              "0.1287001287001287"
            ]
          },
          "metadata": {},
          "execution_count": 60
        }
      ]
    },
    {
      "cell_type": "code",
      "source": [
        "print('The result was {}'.format(result))"
      ],
      "metadata": {
        "colab": {
          "base_uri": "https://localhost:8080/"
        },
        "id": "8BFuStoCtmmW",
        "outputId": "f967cafb-e086-4649-9776-830c8d245eb8"
      },
      "execution_count": 61,
      "outputs": [
        {
          "output_type": "stream",
          "name": "stdout",
          "text": [
            "The result was 0.1287001287001287\n"
          ]
        }
      ]
    },
    {
      "cell_type": "code",
      "source": [
        "print('The result was {:10.5f}'.format(result))"
      ],
      "metadata": {
        "colab": {
          "base_uri": "https://localhost:8080/"
        },
        "id": "3rwlSkfJtx6n",
        "outputId": "03b6a773-7652-47fb-aaf8-28cb5c90f41a"
      },
      "execution_count": 63,
      "outputs": [
        {
          "output_type": "stream",
          "name": "stdout",
          "text": [
            "The result was    0.12870\n"
          ]
        }
      ]
    },
    {
      "cell_type": "markdown",
      "source": [
        "### f-string 방법"
      ],
      "metadata": {
        "id": "OvYnOKbwuVOR"
      }
    },
    {
      "cell_type": "code",
      "source": [
        "name = 'jose'\n",
        "print(f\"Hello, his name is {name}\") # 중괄호 안에 변수 대입"
      ],
      "metadata": {
        "colab": {
          "base_uri": "https://localhost:8080/"
        },
        "id": "lTo0Dah_ucSo",
        "outputId": "1cff3fc7-f4d3-4ed7-c784-c9776c17109d"
      },
      "execution_count": 66,
      "outputs": [
        {
          "output_type": "stream",
          "name": "stdout",
          "text": [
            "Hello, his name is jose\n"
          ]
        }
      ]
    },
    {
      "cell_type": "code",
      "source": [
        "age =3\n",
        "print(f'{name} is {age} years old') # 여러가지도 가능."
      ],
      "metadata": {
        "colab": {
          "base_uri": "https://localhost:8080/"
        },
        "id": "jA9G4B45ucQH",
        "outputId": "5d9f0b1e-9d72-40ad-f093-ca9be0cd94fb"
      },
      "execution_count": 67,
      "outputs": [
        {
          "output_type": "stream",
          "name": "stdout",
          "text": [
            "jose is 3 years old\n"
          ]
        }
      ]
    }
  ]
}