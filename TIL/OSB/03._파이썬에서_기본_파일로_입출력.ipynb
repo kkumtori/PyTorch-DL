{
 "cells": [
  {
   "cell_type": "markdown",
   "id": "84cbc328",
   "metadata": {},
   "source": [
    "# 기본 파일로 입출력\n",
    "* 파이썬은 다양한 파일(txt 등)들을 읽고 쓰기에 매우 유용.\n",
    "* jupyter에서만 가능한 방법"
   ]
  },
  {
   "cell_type": "code",
   "execution_count": 2,
   "id": "0d3f2ca8",
   "metadata": {},
   "outputs": [
    {
     "name": "stdout",
     "output_type": "stream",
     "text": [
      "Writing myfile.txt\n"
     ]
    }
   ],
   "source": [
    "%%writefile myfile.txt\n",
    "Hello this is a text file\n",
    "this is the second line\n",
    "this is the third line"
   ]
  },
  {
   "cell_type": "markdown",
   "id": "8f9f0295",
   "metadata": {},
   "source": [
    "* 지금 현재 폴더에 파일이 작성됨\n",
    "* 아래 코드는 현재 폴더에 파일이 잘 작성되는 지를 확인한다.\n",
    "* `pwd` :현재 위치 알기\n",
    "* `ls` : 현재 위치 폴더에 뭐가 있는지 전부 출력"
   ]
  },
  {
   "cell_type": "code",
   "execution_count": 6,
   "id": "2d782af6",
   "metadata": {},
   "outputs": [
    {
     "data": {
      "text/plain": [
       "'C:\\\\Users\\\\C4022\\\\Desktop\\\\한이음'"
      ]
     },
     "execution_count": 6,
     "metadata": {},
     "output_type": "execute_result"
    }
   ],
   "source": [
    "pwd"
   ]
  },
  {
   "cell_type": "code",
   "execution_count": 7,
   "id": "cfad7b9e",
   "metadata": {},
   "outputs": [
    {
     "name": "stdout",
     "output_type": "stream",
     "text": [
      " C 드라이브의 볼륨에는 이름이 없습니다.\n",
      " 볼륨 일련 번호: D6FC-F589\n",
      "\n",
      " C:\\Users\\C4022\\Desktop\\한이음 디렉터리\n",
      "\n",
      "2023-05-21  오후 05:57    <DIR>          .\n",
      "2023-05-21  오후 05:57    <DIR>          ..\n",
      "2023-05-21  오후 05:54    <DIR>          .ipynb_checkpoints\n",
      "2023-05-21  오후 05:57             3,186 03. 파이썬에서 기본 파일로 입출력.ipynb\n",
      "2023-05-21  오후 05:52    <DIR>          23_HF135\n",
      "2023-05-21  오후 05:54               916 for using gitlab.ipynb\n",
      "2023-05-21  오후 05:54                76 myfile.txt\n",
      "2023-05-21  오후 05:57    <DIR>          각종 자료\n",
      "               3개 파일               4,178 바이트\n",
      "               5개 디렉터리  111,033,057,280 바이트 남음\n"
     ]
    }
   ],
   "source": [
    "ls"
   ]
  },
  {
   "cell_type": "markdown",
   "id": "0ff05682",
   "metadata": {},
   "source": [
    "## 파일 읽기\n",
    "* `open('파일이름.')`활용\n",
    "* 'read()`\n",
    "    * 문서 파일에 뭐가 있든 긴 문자열로 반환함.\n",
    "    * 단 하나의 문자열로 반환\n",
    "* readlines()이용.\n",
    "    * 한 줄씩 읽어서 리스트로 가져옴.\n",
    "    * 마찬가지로 맨뒤에 `\\n`이 있다."
   ]
  },
  {
   "cell_type": "code",
   "execution_count": 8,
   "id": "cce69a35",
   "metadata": {},
   "outputs": [],
   "source": [
    "myfile = open('myfile.txt')"
   ]
  },
  {
   "cell_type": "code",
   "execution_count": 9,
   "id": "96a9e230",
   "metadata": {},
   "outputs": [
    {
     "ename": "FileNotFoundError",
     "evalue": "[Errno 2] No such file or directory: 'dklaj.txt'",
     "output_type": "error",
     "traceback": [
      "\u001b[1;31m---------------------------------------------------------------------------\u001b[0m",
      "\u001b[1;31mFileNotFoundError\u001b[0m                         Traceback (most recent call last)",
      "\u001b[1;32m~\\AppData\\Local\\Temp/ipykernel_13628/4200660744.py\u001b[0m in \u001b[0;36m<module>\u001b[1;34m\u001b[0m\n\u001b[0;32m      1\u001b[0m \u001b[1;31m# 만약 없는 경우\u001b[0m\u001b[1;33m\u001b[0m\u001b[1;33m\u001b[0m\u001b[0m\n\u001b[1;32m----> 2\u001b[1;33m \u001b[0mmyfile\u001b[0m \u001b[1;33m=\u001b[0m \u001b[0mopen\u001b[0m\u001b[1;33m(\u001b[0m\u001b[1;34m'dklaj.txt'\u001b[0m\u001b[1;33m)\u001b[0m\u001b[1;33m\u001b[0m\u001b[1;33m\u001b[0m\u001b[0m\n\u001b[0m",
      "\u001b[1;31mFileNotFoundError\u001b[0m: [Errno 2] No such file or directory: 'dklaj.txt'"
     ]
    }
   ],
   "source": [
    "# 만약 없는 경우\n",
    "myfile = open('dklaj.txt')"
   ]
  },
  {
   "cell_type": "markdown",
   "id": "37b318fa",
   "metadata": {},
   "source": [
    "* 위의 에러는 파일 이름을 잘못 입력한 경우와 경로를 잘못 지정한 경우 모두 발생할 수 있다."
   ]
  },
  {
   "cell_type": "code",
   "execution_count": 10,
   "id": "b7b1a0fa",
   "metadata": {},
   "outputs": [],
   "source": [
    "myfile = open('myfile.txt')"
   ]
  },
  {
   "cell_type": "code",
   "execution_count": 11,
   "id": "62e502c7",
   "metadata": {},
   "outputs": [
    {
     "data": {
      "text/plain": [
       "'Hello this is a text file\\nthis is the second line\\nthis is the third line\\n'"
      ]
     },
     "execution_count": 11,
     "metadata": {},
     "output_type": "execute_result"
    }
   ],
   "source": [
    "myfile.read()"
   ]
  },
  {
   "cell_type": "markdown",
   "id": "a736ff74",
   "metadata": {},
   "source": [
    "* enter키 입력의 경우 `\\n`으로 표현됨."
   ]
  },
  {
   "cell_type": "code",
   "execution_count": 12,
   "id": "dd41b2d6",
   "metadata": {},
   "outputs": [
    {
     "data": {
      "text/plain": [
       "''"
      ]
     },
     "execution_count": 12,
     "metadata": {},
     "output_type": "execute_result"
    }
   ],
   "source": [
    "myfile.read()"
   ]
  },
  {
   "cell_type": "markdown",
   "id": "83a16872",
   "metadata": {},
   "source": [
    "* 다시 읽는 경우 빈 문자열 출력\n",
    "* 이는 처음에 open을 했을 때 커서가 파일의 맨 처음으로 되어 있는데 read()를 하고 나면, 커서가 맨 뒤로 이동되어 이제 더이상 읽을 문자열이 없기 때문이다.\n",
    "* 이를 해결하기 위해선 커서를 다시 설정하거나 커서를 다시 처음으로 보내야한다.\n",
    "    * `seek()`활용 : 커서 재설정"
   ]
  },
  {
   "cell_type": "code",
   "execution_count": 16,
   "id": "b67d2131",
   "metadata": {},
   "outputs": [
    {
     "data": {
      "text/plain": [
       "0"
      ]
     },
     "execution_count": 16,
     "metadata": {},
     "output_type": "execute_result"
    }
   ],
   "source": [
    " myfile.seek(0) # 커서를 0으로 돌림"
   ]
  },
  {
   "cell_type": "code",
   "execution_count": 15,
   "id": "2359d2a8",
   "metadata": {},
   "outputs": [
    {
     "data": {
      "text/plain": [
       "'Hello this is a text file\\nthis is the second line\\nthis is the third line\\n'"
      ]
     },
     "execution_count": 15,
     "metadata": {},
     "output_type": "execute_result"
    }
   ],
   "source": [
    "myfile.read() # 다시 값을 읽음"
   ]
  },
  {
   "cell_type": "code",
   "execution_count": 18,
   "id": "37b37899",
   "metadata": {},
   "outputs": [
    {
     "data": {
      "text/plain": [
       "['Hello this is a text file\\n',\n",
       " 'this is the second line\\n',\n",
       " 'this is the third line\\n']"
      ]
     },
     "execution_count": 18,
     "metadata": {},
     "output_type": "execute_result"
    }
   ],
   "source": [
    "myfile.readlines()"
   ]
  },
  {
   "cell_type": "markdown",
   "id": "d8663025",
   "metadata": {},
   "source": [
    "## 파일 위치\n",
    "* 위에서는 같은 폴더에 있는 파일만 읽었는데 그렇게 사용할 경우 매우 불편함.\n",
    "* 따라서 다른 위치에 있는 파일들도 잘 읽을 수 있도록 해야함\n",
    "    * 읽을 파일의 경로를 잘 지정해 준다면, 다른 위치에 있는 파일도 잘 읽을 수 있다.\n",
    "    * 윈도우, linuex에 따라서 문법이 달라짐\n",
    "        * 이 경우 단순히 pwd를 쳐서 어떤 문법인지 확인하고 사용하면 됨.\n",
    "    "
   ]
  },
  {
   "cell_type": "markdown",
   "id": "f17a10fe",
   "metadata": {},
   "source": [
    "## 파일 닫기\n",
    "* 파일을 열었으면 닫아 주어야함.\n",
    "* `.close()`를 이용해서 닫아준다.\n",
    "* 만약 파일을 열고나서 닫지 않고 삭제하려고 하면, 어딘가에서 사용중이라고 에러가 발생하게 된다.\n",
    "* `with`을 이용해서 직접 닫지 않고 자동으로 열고 닫는 방식을 사용해도 된다."
   ]
  },
  {
   "cell_type": "code",
   "execution_count": 20,
   "id": "7794b636",
   "metadata": {},
   "outputs": [],
   "source": [
    "myfile.close()"
   ]
  },
  {
   "cell_type": "code",
   "execution_count": 21,
   "id": "35fd9337",
   "metadata": {},
   "outputs": [],
   "source": [
    "with open('myfile.txt') as my_new_file:\n",
    "    contets = my_new_file.read()"
   ]
  },
  {
   "cell_type": "code",
   "execution_count": 23,
   "id": "b3fbc7e1",
   "metadata": {},
   "outputs": [
    {
     "data": {
      "text/plain": [
       "'Hello this is a text file\\nthis is the second line\\nthis is the third line\\n'"
      ]
     },
     "execution_count": 23,
     "metadata": {},
     "output_type": "execute_result"
    }
   ],
   "source": [
    "contets"
   ]
  },
  {
   "cell_type": "markdown",
   "id": "474c9fc7",
   "metadata": {},
   "source": [
    "## 파일 쓰기\n",
    "* open할 때 모드를 'w'로 설정한다.\n",
    "    * 해당 경우 기본적으로 파일을 쓰기로 사용되기 때문에 읽을려고 하면 문제가 생긴다.\n",
    "* open할 때 모드를 'a'로 설정한다.\n",
    "    * 해당 경우 기본적으로 파일을 추가로 사용하기 때문에 입력시 맨 뒤에 입력된 정보들이 들어간다."
   ]
  },
  {
   "cell_type": "code",
   "execution_count": 24,
   "id": "8133587a",
   "metadata": {},
   "outputs": [
    {
     "ename": "UnsupportedOperation",
     "evalue": "not readable",
     "output_type": "error",
     "traceback": [
      "\u001b[1;31m---------------------------------------------------------------------------\u001b[0m",
      "\u001b[1;31mUnsupportedOperation\u001b[0m                      Traceback (most recent call last)",
      "\u001b[1;32m~\\AppData\\Local\\Temp/ipykernel_13628/3023136616.py\u001b[0m in \u001b[0;36m<module>\u001b[1;34m\u001b[0m\n\u001b[0;32m      1\u001b[0m \u001b[1;32mwith\u001b[0m \u001b[0mopen\u001b[0m\u001b[1;33m(\u001b[0m\u001b[1;34m'myfile.txt'\u001b[0m\u001b[1;33m,\u001b[0m \u001b[0mmode\u001b[0m \u001b[1;33m=\u001b[0m \u001b[1;34m'w'\u001b[0m\u001b[1;33m)\u001b[0m \u001b[1;32mas\u001b[0m \u001b[0mmy_new_file\u001b[0m\u001b[1;33m:\u001b[0m\u001b[1;33m\u001b[0m\u001b[1;33m\u001b[0m\u001b[0m\n\u001b[1;32m----> 2\u001b[1;33m     \u001b[0mcontets\u001b[0m \u001b[1;33m=\u001b[0m \u001b[0mmy_new_file\u001b[0m\u001b[1;33m.\u001b[0m\u001b[0mread\u001b[0m\u001b[1;33m(\u001b[0m\u001b[1;33m)\u001b[0m\u001b[1;33m\u001b[0m\u001b[1;33m\u001b[0m\u001b[0m\n\u001b[0m",
      "\u001b[1;31mUnsupportedOperation\u001b[0m: not readable"
     ]
    }
   ],
   "source": [
    "with open('myfile.txt', mode = 'w') as my_new_file:\n",
    "    contets = my_new_file.read()"
   ]
  },
  {
   "cell_type": "markdown",
   "id": "504617c9",
   "metadata": {},
   "source": [
    "* 쓰기 모드이므로 기본적으로 에러 발생."
   ]
  },
  {
   "attachments": {
    "image.png": {
     "image/png": "[encoded data removed]"
    }
   },
   "cell_type": "markdown",
   "id": "1f904c8f",
   "metadata": {},
   "source": [
    "### 다양한 모드들.  \n",
    "  \n",
    "![image.png](attachment:image.png)"
   ]
  },
  {
   "cell_type": "markdown",
   "id": "c2b9f127",
   "metadata": {},
   "source": [
    "#### 주의점\n",
    "* w+와 r+는 경우 동작이 비슷한것 같지만 다른 작업을 함.\n",
    "    * w+의 경우 기존 파일에 있던 데이터를 지우고 새로 쓴다.\n",
    "    * r+의 경우 기존 파일내용들을 두고 그 위에 덮어 쓰기를 사용.\n",
    "\n",
    "* 예시(기존파일에 Hello world! 및  abc 입력시 )\n",
    "    * w+ 모드 시 -> abc\n",
    "    * r+ 모드 시 -> abclo world!\n",
    "    * a+ 모드 시 -> Hello world!abc"
   ]
  },
  {
   "cell_type": "code",
   "execution_count": null,
   "id": "19111a4c",
   "metadata": {},
   "outputs": [],
   "source": []
  }
 ],
 "metadata": {
  "kernelspec": {
   "display_name": "Python 3 (ipykernel)",
   "language": "python",
   "name": "python3"
  },
  "language_info": {
   "codemirror_mode": {
    "name": "ipython",
    "version": 3
   },
   "file_extension": ".py",
   "mimetype": "text/x-python",
   "name": "python",
   "nbconvert_exporter": "python",
   "pygments_lexer": "ipython3",
   "version": "3.9.7"
  }
 },
 "nbformat": 4,
 "nbformat_minor": 5
}
